{
  "nbformat": 4,
  "nbformat_minor": 0,
  "metadata": {
    "colab": {
      "name": "22_순전파신경망_MNIST손글씨.ipynb",
      "provenance": [],
      "collapsed_sections": []
    },
    "kernelspec": {
      "name": "python3",
      "display_name": "Python 3"
    },
    "language_info": {
      "name": "python"
    }
  },
  "cells": [
    {
      "cell_type": "markdown",
      "source": [
        "- 데이터 불러오기"
      ],
      "metadata": {
        "id": "wTnqWr1D0n6p"
      }
    },
    {
      "cell_type": "code",
      "execution_count": 9,
      "metadata": {
        "id": "IcO_d9nzEgvh",
        "colab": {
          "base_uri": "https://localhost:8080/"
        },
        "outputId": "686c4bee-7a64-4b92-e7ce-d1c80d6d31ea"
      },
      "outputs": [
        {
          "output_type": "execute_result",
          "data": {
            "text/plain": [
              "((60000, 28, 28), (60000,), (10000, 28, 28), (10000,))"
            ]
          },
          "metadata": {},
          "execution_count": 9
        }
      ],
      "source": [
        "from tensorflow.keras.datasets import mnist\n",
        "(X_train, y_train), (X_test, y_test) = mnist.load_data()\n",
        "X_train.shape, y_train.shape, X_test.shape, y_test.shape"
      ]
    },
    {
      "cell_type": "markdown",
      "source": [
        "- 데이터 전처리\n",
        "  - X: 2차원 및 0 ~ 1 사이값으로 변환\n",
        "  - y: 원핫 벡터로 변환"
      ],
      "metadata": {
        "id": "IEG7uADZ0plq"
      }
    },
    {
      "cell_type": "code",
      "source": [
        "X_train = X_train.reshape(60000, 784)\n",
        "X_train = X_train / 255.\n",
        "X_test = X_test.reshape(10000, 784)\n",
        "X_test = X_test / 255."
      ],
      "metadata": {
        "id": "JP8wQTsbztyG"
      },
      "execution_count": 11,
      "outputs": []
    },
    {
      "cell_type": "code",
      "source": [
        "from tensorflow.keras.utils import to_categorical\n",
        "y_train = to_categorical(y_train, 10)\n",
        "y_test = to_categorical(y_test, 10)"
      ],
      "metadata": {
        "id": "yXox7LH102_f"
      },
      "execution_count": 12,
      "outputs": []
    },
    {
      "cell_type": "markdown",
      "source": [
        "### (1) Sequential API 활용"
      ],
      "metadata": {
        "id": "dmdopyD99Rrf"
      }
    },
    {
      "cell_type": "markdown",
      "source": [
        "- 모델 생성 및 구성"
      ],
      "metadata": {
        "id": "7CcJnqso4dy0"
      }
    },
    {
      "cell_type": "code",
      "source": [
        "from tensorflow.keras.models import Sequential\n",
        "model = Sequential()"
      ],
      "metadata": {
        "id": "Yq4CmXre20QK"
      },
      "execution_count": 13,
      "outputs": []
    },
    {
      "cell_type": "code",
      "source": [
        "from tensorflow.keras.layers import Dense\n",
        "model.add(Dense(64, input_shape=(784, ), activation='relu'))\n",
        "model.add(Dense(10, activation='softmax'))"
      ],
      "metadata": {
        "id": "cia-4F1h3Rr3"
      },
      "execution_count": 14,
      "outputs": []
    },
    {
      "cell_type": "markdown",
      "source": [
        "- 모델 준비 및 학습"
      ],
      "metadata": {
        "id": "g7iT-oMv7lxG"
      }
    },
    {
      "cell_type": "code",
      "source": [
        "from tensorflow.keras.callbacks import TensorBoard\n",
        "model.compile(optimizer='adam', loss='categorical_crossentropy', metrics=['accuracy'])\n",
        "tsb = TensorBoard(log_dir='./logs')\n",
        "history_adam = model.fit(X_train, y_train, batch_size=32, epochs=20, validation_split=0.2, callbacks=[tsb])"
      ],
      "metadata": {
        "colab": {
          "base_uri": "https://localhost:8080/"
        },
        "id": "S6tPAvmJ4giB",
        "outputId": "d56f3c43-0022-4547-f109-49db5b1907bc"
      },
      "execution_count": 15,
      "outputs": [
        {
          "output_type": "stream",
          "name": "stdout",
          "text": [
            "Epoch 1/20\n",
            "1500/1500 [==============================] - 4s 2ms/step - loss: 1.5077 - accuracy: 0.6391 - val_loss: 0.8324 - val_accuracy: 0.8240\n",
            "Epoch 2/20\n",
            "1500/1500 [==============================] - 4s 2ms/step - loss: 0.6648 - accuracy: 0.8405 - val_loss: 0.5195 - val_accuracy: 0.8708\n",
            "Epoch 3/20\n",
            "1500/1500 [==============================] - 4s 2ms/step - loss: 0.4861 - accuracy: 0.8741 - val_loss: 0.4173 - val_accuracy: 0.8904\n",
            "Epoch 4/20\n",
            "1500/1500 [==============================] - 3s 2ms/step - loss: 0.4148 - accuracy: 0.8878 - val_loss: 0.3705 - val_accuracy: 0.8988\n",
            "Epoch 5/20\n",
            "1500/1500 [==============================] - 4s 2ms/step - loss: 0.3770 - accuracy: 0.8947 - val_loss: 0.3408 - val_accuracy: 0.9050\n",
            "Epoch 6/20\n",
            "1500/1500 [==============================] - 4s 2ms/step - loss: 0.3528 - accuracy: 0.9006 - val_loss: 0.3239 - val_accuracy: 0.9082\n",
            "Epoch 7/20\n",
            "1500/1500 [==============================] - 3s 2ms/step - loss: 0.3356 - accuracy: 0.9049 - val_loss: 0.3131 - val_accuracy: 0.9112\n",
            "Epoch 8/20\n",
            "1500/1500 [==============================] - 4s 2ms/step - loss: 0.3225 - accuracy: 0.9077 - val_loss: 0.2994 - val_accuracy: 0.9145\n",
            "Epoch 9/20\n",
            "1500/1500 [==============================] - 4s 2ms/step - loss: 0.3117 - accuracy: 0.9111 - val_loss: 0.2901 - val_accuracy: 0.9187\n",
            "Epoch 10/20\n",
            "1500/1500 [==============================] - 4s 2ms/step - loss: 0.3023 - accuracy: 0.9133 - val_loss: 0.2816 - val_accuracy: 0.9193\n",
            "Epoch 11/20\n",
            "1500/1500 [==============================] - 4s 2ms/step - loss: 0.2944 - accuracy: 0.9162 - val_loss: 0.2767 - val_accuracy: 0.9205\n",
            "Epoch 12/20\n",
            "1500/1500 [==============================] - 4s 2ms/step - loss: 0.2873 - accuracy: 0.9174 - val_loss: 0.2686 - val_accuracy: 0.9231\n",
            "Epoch 13/20\n",
            "1500/1500 [==============================] - 3s 2ms/step - loss: 0.2811 - accuracy: 0.9191 - val_loss: 0.2630 - val_accuracy: 0.9255\n",
            "Epoch 14/20\n",
            "1500/1500 [==============================] - 4s 2ms/step - loss: 0.2750 - accuracy: 0.9218 - val_loss: 0.2582 - val_accuracy: 0.9264\n",
            "Epoch 15/20\n",
            "1500/1500 [==============================] - 4s 2ms/step - loss: 0.2696 - accuracy: 0.9221 - val_loss: 0.2543 - val_accuracy: 0.9274\n",
            "Epoch 16/20\n",
            "1500/1500 [==============================] - 4s 2ms/step - loss: 0.2640 - accuracy: 0.9239 - val_loss: 0.2517 - val_accuracy: 0.9273\n",
            "Epoch 17/20\n",
            "1500/1500 [==============================] - 3s 2ms/step - loss: 0.2592 - accuracy: 0.9255 - val_loss: 0.2457 - val_accuracy: 0.9304\n",
            "Epoch 18/20\n",
            "1500/1500 [==============================] - 4s 2ms/step - loss: 0.2544 - accuracy: 0.9267 - val_loss: 0.2439 - val_accuracy: 0.9297\n",
            "Epoch 19/20\n",
            "1500/1500 [==============================] - 4s 2ms/step - loss: 0.2497 - accuracy: 0.9284 - val_loss: 0.2396 - val_accuracy: 0.9308\n",
            "Epoch 20/20\n",
            "1500/1500 [==============================] - 4s 2ms/step - loss: 0.2451 - accuracy: 0.9302 - val_loss: 0.2367 - val_accuracy: 0.9323\n"
          ]
        }
      ]
    },
    {
      "cell_type": "markdown",
      "source": [
        "- 모델 평가"
      ],
      "metadata": {
        "id": "m_0pDV_L7tTz"
      }
    },
    {
      "cell_type": "code",
      "source": [
        "model.evaluate(X_test, y_test)"
      ],
      "metadata": {
        "colab": {
          "base_uri": "https://localhost:8080/"
        },
        "id": "b1On0Vls7t9C",
        "outputId": "6cc9b6b8-8b07-4c75-d4e4-011be2856b81"
      },
      "execution_count": 16,
      "outputs": [
        {
          "output_type": "stream",
          "name": "stdout",
          "text": [
            "313/313 [==============================] - 1s 2ms/step - loss: 39.0044 - accuracy: 0.8790\n"
          ]
        },
        {
          "output_type": "execute_result",
          "data": {
            "text/plain": [
              "[39.00442123413086, 0.8790000081062317]"
            ]
          },
          "metadata": {},
          "execution_count": 16
        }
      ]
    },
    {
      "cell_type": "markdown",
      "source": [
        "### (2) Functional API 활용"
      ],
      "metadata": {
        "id": "yr88k40_73pd"
      }
    },
    {
      "cell_type": "markdown",
      "source": [
        "- 모델 생성 및 구성"
      ],
      "metadata": {
        "id": "pXUgajU49ZO8"
      }
    },
    {
      "cell_type": "code",
      "source": [
        "from tensorflow.keras.layers import Input\n",
        "from tensorflow.keras.models import Model\n",
        "input = Input(shape=(784, ))\n",
        "middle = Dense(64, activation='relu')(input)\n",
        "output = Dense(10, activation='softmax')(middle)\n",
        "func_model = Model(inputs=[input], outputs=[output])"
      ],
      "metadata": {
        "id": "P-pwqeIl7zKd"
      },
      "execution_count": 18,
      "outputs": []
    },
    {
      "cell_type": "markdown",
      "source": [
        "- 모델 준비 및 학습"
      ],
      "metadata": {
        "id": "uaQFJkGw9a_O"
      }
    },
    {
      "cell_type": "code",
      "source": [
        "func_model.compile(optimizer='adam', loss='categorical_crossentropy', metrics=['accuracy'])\n",
        "func_model.fit(X_train, y_train, batch_size=32, epochs=20, validation_split=0.2, callbacks=[tsb])"
      ],
      "metadata": {
        "colab": {
          "base_uri": "https://localhost:8080/"
        },
        "id": "ig18BSVb86-m",
        "outputId": "7f062919-7ad5-4397-8b11-4349460897cc"
      },
      "execution_count": 19,
      "outputs": [
        {
          "output_type": "stream",
          "name": "stdout",
          "text": [
            "Epoch 1/20\n",
            "1500/1500 [==============================] - 4s 2ms/step - loss: 1.4992 - accuracy: 0.6225 - val_loss: 0.8630 - val_accuracy: 0.8050\n",
            "Epoch 2/20\n",
            "1500/1500 [==============================] - 3s 2ms/step - loss: 0.7042 - accuracy: 0.8228 - val_loss: 0.5504 - val_accuracy: 0.8633\n",
            "Epoch 3/20\n",
            "1500/1500 [==============================] - 3s 2ms/step - loss: 0.5130 - accuracy: 0.8654 - val_loss: 0.4376 - val_accuracy: 0.8888\n",
            "Epoch 4/20\n",
            "1500/1500 [==============================] - 4s 2ms/step - loss: 0.4308 - accuracy: 0.8833 - val_loss: 0.3822 - val_accuracy: 0.8947\n",
            "Epoch 5/20\n",
            "1500/1500 [==============================] - 4s 2ms/step - loss: 0.3867 - accuracy: 0.8941 - val_loss: 0.3480 - val_accuracy: 0.9028\n",
            "Epoch 6/20\n",
            "1500/1500 [==============================] - 3s 2ms/step - loss: 0.3597 - accuracy: 0.8995 - val_loss: 0.3276 - val_accuracy: 0.9091\n",
            "Epoch 7/20\n",
            "1500/1500 [==============================] - 3s 2ms/step - loss: 0.3408 - accuracy: 0.9043 - val_loss: 0.3135 - val_accuracy: 0.9104\n",
            "Epoch 8/20\n",
            "1500/1500 [==============================] - 3s 2ms/step - loss: 0.3274 - accuracy: 0.9080 - val_loss: 0.3025 - val_accuracy: 0.9147\n",
            "Epoch 9/20\n",
            "1500/1500 [==============================] - 3s 2ms/step - loss: 0.3167 - accuracy: 0.9099 - val_loss: 0.2943 - val_accuracy: 0.9157\n",
            "Epoch 10/20\n",
            "1500/1500 [==============================] - 3s 2ms/step - loss: 0.3079 - accuracy: 0.9121 - val_loss: 0.2873 - val_accuracy: 0.9183\n",
            "Epoch 11/20\n",
            "1500/1500 [==============================] - 4s 2ms/step - loss: 0.3004 - accuracy: 0.9141 - val_loss: 0.2811 - val_accuracy: 0.9200\n",
            "Epoch 12/20\n",
            "1500/1500 [==============================] - 4s 2ms/step - loss: 0.2942 - accuracy: 0.9164 - val_loss: 0.2756 - val_accuracy: 0.9203\n",
            "Epoch 13/20\n",
            "1500/1500 [==============================] - 4s 2ms/step - loss: 0.2882 - accuracy: 0.9172 - val_loss: 0.2715 - val_accuracy: 0.9216\n",
            "Epoch 14/20\n",
            "1500/1500 [==============================] - 3s 2ms/step - loss: 0.2823 - accuracy: 0.9189 - val_loss: 0.2675 - val_accuracy: 0.9227\n",
            "Epoch 15/20\n",
            "1500/1500 [==============================] - 4s 2ms/step - loss: 0.2779 - accuracy: 0.9201 - val_loss: 0.2616 - val_accuracy: 0.9237\n",
            "Epoch 16/20\n",
            "1500/1500 [==============================] - 4s 2ms/step - loss: 0.2725 - accuracy: 0.9211 - val_loss: 0.2572 - val_accuracy: 0.9251\n",
            "Epoch 17/20\n",
            "1500/1500 [==============================] - 4s 2ms/step - loss: 0.2675 - accuracy: 0.9229 - val_loss: 0.2558 - val_accuracy: 0.9269\n",
            "Epoch 18/20\n",
            "1500/1500 [==============================] - 3s 2ms/step - loss: 0.2624 - accuracy: 0.9237 - val_loss: 0.2508 - val_accuracy: 0.9276\n",
            "Epoch 19/20\n",
            "1500/1500 [==============================] - 4s 2ms/step - loss: 0.2577 - accuracy: 0.9250 - val_loss: 0.2468 - val_accuracy: 0.9290\n",
            "Epoch 20/20\n",
            "1500/1500 [==============================] - 4s 3ms/step - loss: 0.2523 - accuracy: 0.9268 - val_loss: 0.2431 - val_accuracy: 0.9302\n"
          ]
        },
        {
          "output_type": "execute_result",
          "data": {
            "text/plain": [
              "<keras.callbacks.History at 0x7f20caedfa50>"
            ]
          },
          "metadata": {},
          "execution_count": 19
        }
      ]
    },
    {
      "cell_type": "markdown",
      "source": [
        "- 모델 평가"
      ],
      "metadata": {
        "id": "Hkv6iSoD9fQD"
      }
    },
    {
      "cell_type": "code",
      "source": [
        "func_model.evaluate(X_test, y_test)"
      ],
      "metadata": {
        "colab": {
          "base_uri": "https://localhost:8080/"
        },
        "id": "3bde9UCD9M31",
        "outputId": "b0f6eafe-00db-4cff-c83e-cd3f1491b3f3"
      },
      "execution_count": 20,
      "outputs": [
        {
          "output_type": "stream",
          "name": "stdout",
          "text": [
            "313/313 [==============================] - 1s 2ms/step - loss: 53.9533 - accuracy: 0.8373\n"
          ]
        },
        {
          "output_type": "execute_result",
          "data": {
            "text/plain": [
              "[53.95328903198242, 0.8373000025749207]"
            ]
          },
          "metadata": {},
          "execution_count": 20
        }
      ]
    }
  ]
}