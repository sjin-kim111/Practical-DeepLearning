{
  "nbformat": 4,
  "nbformat_minor": 0,
  "metadata": {
    "colab": {
      "name": "51_ImageDataGenerator.ipynb",
      "provenance": [],
      "collapsed_sections": []
    },
    "kernelspec": {
      "name": "python3",
      "display_name": "Python 3"
    },
    "language_info": {
      "name": "python"
    }
  },
  "cells": [
    {
      "cell_type": "code",
      "execution_count": 3,
      "metadata": {
        "id": "Gu0OIdkKxHek"
      },
      "outputs": [],
      "source": [
        "# ImageDataGenerator 생성\n",
        "\n",
        "from tensorflow.keras.preprocessing.image import ImageDataGenerator\n",
        "\n",
        "gen = ImageDataGenerator(\n",
        "    rescale=1/255.,\n",
        "    rotation_range=90.,\n",
        "    width_shift_range=.5,\n",
        "    shear_range=.8,\n",
        "    zoom_range=.5,\n",
        "    horizontal_flip=True,\n",
        "    vertical_flip=True\n",
        ")"
      ]
    },
    {
      "cell_type": "code",
      "source": [
        "# 'img' 폴더에서 이미지를 읽어들이고 iterator 생성\n",
        "\n",
        "iterator = gen.flow_from_directory(\n",
        "    'img',    # 하위에 2개의 클래스 폴더 & 각 폴더 당 10장의 이미지\n",
        "    target_size=(32, 32),\n",
        "    class_mode='binary',\n",
        "    batch_size=5,\n",
        "    shuffle=True\n",
        "    )\n",
        "\n",
        "# iterator로 부터 1 미니 배치분의 데이터를 취득\n",
        "X_train_batch, y_train_batch = next(iterator)\n",
        "X_train_batch.shape, y_train_batch.shape"
      ],
      "metadata": {
        "colab": {
          "base_uri": "https://localhost:8080/"
        },
        "id": "M3C8NNPNzdrJ",
        "outputId": "c51e52f9-57a6-4f36-aed8-d137d03628ef"
      },
      "execution_count": 6,
      "outputs": [
        {
          "output_type": "stream",
          "name": "stdout",
          "text": [
            "Found 20 images belonging to 2 classes.\n"
          ]
        },
        {
          "output_type": "execute_result",
          "data": {
            "text/plain": [
              "((5, 32, 32, 3), (5,))"
            ]
          },
          "metadata": {},
          "execution_count": 6
        }
      ]
    }
  ]
}